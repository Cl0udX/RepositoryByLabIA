{
 "cells": [
  {
   "cell_type": "markdown",
   "metadata": {},
   "source": [
    "<img  src=http://repository.icesi.edu.co/biblioteca_digital/image/icesi-logo.svg height=\"250\" width=\"250\">\n",
    "\n",
    "**Author: Javier Díaz, Christian Urcuqui**\n",
    "        "
   ]
  },
  {
   "cell_type": "markdown",
   "metadata": {},
   "source": [
    "# Programación tradicional vs. aprendizaje automático"
   ]
  },
  {
   "cell_type": "markdown",
   "metadata": {},
   "source": [
    "Imagínen que ustedes trabajan en el correo, y quieren automatizar el despacho de los paquetes y cartas.\n",
    "\n",
    "Ya disponen de un software que logra capturar las direcciones y separarlas caracter por caracter en imágenes de 8 píxeles x 8 píxeles en escala de grises, tales que 0 es el negro absoluto, y entre mayor el valor más claro el pixel.\n",
    "\n",
    "Ese software además puede inferir, según el lugar de los caracteres en la dirección, si cada caracter es una letra o un dígito, pero su labor se termina ahí. "
   ]
  },
  {
   "cell_type": "markdown",
   "metadata": {},
   "source": [
    "<img src=\"http://rasbt.github.io/mlxtend/user_guide/data/mnist_data_files/mnist_data_10_0.png\" />"
   ]
  },
  {
   "cell_type": "markdown",
   "metadata": {},
   "source": [
    "## Programación tradicional\n",
    "Ustedes ahora tienen que pensar en 2 programas diferentes: uno que pueda identificar las clases de las imágenes de dígitos (0 a 9) y otro que pueda clasificar los caracteres letra (a-z,A-Z).\n",
    "\n",
    "Centrémonos en el primer problema de clasificación de imágenes de dígitos."
   ]
  },
  {
   "cell_type": "markdown",
   "metadata": {},
   "source": [
    "Consideren que el dataset con las imágenes a tratar ya está disponible en una librería que produce el primer software:"
   ]
  },
  {
   "cell_type": "code",
   "execution_count": 3,
   "metadata": {},
   "outputs": [],
   "source": [
    "from sklearn.datasets import load_digits\n",
    "import pylab as pl\n",
    "import sklearn"
   ]
  },
  {
   "cell_type": "code",
   "execution_count": 4,
   "metadata": {},
   "outputs": [
    {
     "data": {
      "text/plain": [
       "sklearn.utils.Bunch"
      ]
     },
     "execution_count": 4,
     "metadata": {},
     "output_type": "execute_result"
    }
   ],
   "source": [
    "digits = load_digits()\n",
    "type(digits)"
   ]
  },
  {
   "cell_type": "code",
   "execution_count": 5,
   "metadata": {},
   "outputs": [
    {
     "data": {
      "text/plain": [
       "\u001b[1;31mInit signature:\u001b[0m \u001b[0msklearn\u001b[0m\u001b[1;33m.\u001b[0m\u001b[0mutils\u001b[0m\u001b[1;33m.\u001b[0m\u001b[0mBunch\u001b[0m\u001b[1;33m(\u001b[0m\u001b[1;33m**\u001b[0m\u001b[0mkwargs\u001b[0m\u001b[1;33m)\u001b[0m\u001b[1;33m\u001b[0m\u001b[0m\n",
       "\u001b[1;31mDocstring:\u001b[0m     \n",
       "Container object for datasets\n",
       "\n",
       "Dictionary-like object that exposes its keys as attributes.\n",
       "\n",
       ">>> b = Bunch(a=1, b=2)\n",
       ">>> b['b']\n",
       "2\n",
       ">>> b.b\n",
       "2\n",
       ">>> b.a = 3\n",
       ">>> b['a']\n",
       "3\n",
       ">>> b.c = 6\n",
       ">>> b['c']\n",
       "6\n",
       "\u001b[1;31mFile:\u001b[0m           c:\\users\\santi\\anaconda3\\lib\\site-packages\\sklearn\\utils\\__init__.py\n",
       "\u001b[1;31mType:\u001b[0m           type\n"
      ]
     },
     "metadata": {},
     "output_type": "display_data"
    }
   ],
   "source": [
    "?sklearn.utils.Bunch"
   ]
  },
  {
   "cell_type": "code",
   "execution_count": 6,
   "metadata": {},
   "outputs": [
    {
     "data": {
      "text/plain": [
       "dict_keys(['data', 'target', 'target_names', 'images', 'DESCR'])"
      ]
     },
     "execution_count": 6,
     "metadata": {},
     "output_type": "execute_result"
    }
   ],
   "source": [
    "digits.keys()"
   ]
  },
  {
   "cell_type": "code",
   "execution_count": 7,
   "metadata": {},
   "outputs": [
    {
     "name": "stdout",
     "output_type": "stream",
     "text": [
      "[[[ 0.  0.  5. ...  1.  0.  0.]\n",
      "  [ 0.  0. 13. ... 15.  5.  0.]\n",
      "  [ 0.  3. 15. ... 11.  8.  0.]\n",
      "  ...\n",
      "  [ 0.  4. 11. ... 12.  7.  0.]\n",
      "  [ 0.  2. 14. ... 12.  0.  0.]\n",
      "  [ 0.  0.  6. ...  0.  0.  0.]]\n",
      "\n",
      " [[ 0.  0.  0. ...  5.  0.  0.]\n",
      "  [ 0.  0.  0. ...  9.  0.  0.]\n",
      "  [ 0.  0.  3. ...  6.  0.  0.]\n",
      "  ...\n",
      "  [ 0.  0.  1. ...  6.  0.  0.]\n",
      "  [ 0.  0.  1. ...  6.  0.  0.]\n",
      "  [ 0.  0.  0. ... 10.  0.  0.]]\n",
      "\n",
      " [[ 0.  0.  0. ... 12.  0.  0.]\n",
      "  [ 0.  0.  3. ... 14.  0.  0.]\n",
      "  [ 0.  0.  8. ... 16.  0.  0.]\n",
      "  ...\n",
      "  [ 0.  9. 16. ...  0.  0.  0.]\n",
      "  [ 0.  3. 13. ... 11.  5.  0.]\n",
      "  [ 0.  0.  0. ... 16.  9.  0.]]\n",
      "\n",
      " ...\n",
      "\n",
      " [[ 0.  0.  1. ...  1.  0.  0.]\n",
      "  [ 0.  0. 13. ...  2.  1.  0.]\n",
      "  [ 0.  0. 16. ... 16.  5.  0.]\n",
      "  ...\n",
      "  [ 0.  0. 16. ... 15.  0.  0.]\n",
      "  [ 0.  0. 15. ... 16.  0.  0.]\n",
      "  [ 0.  0.  2. ...  6.  0.  0.]]\n",
      "\n",
      " [[ 0.  0.  2. ...  0.  0.  0.]\n",
      "  [ 0.  0. 14. ... 15.  1.  0.]\n",
      "  [ 0.  4. 16. ... 16.  7.  0.]\n",
      "  ...\n",
      "  [ 0.  0.  0. ... 16.  2.  0.]\n",
      "  [ 0.  0.  4. ... 16.  2.  0.]\n",
      "  [ 0.  0.  5. ... 12.  0.  0.]]\n",
      "\n",
      " [[ 0.  0. 10. ...  1.  0.  0.]\n",
      "  [ 0.  2. 16. ...  1.  0.  0.]\n",
      "  [ 0.  0. 15. ... 15.  0.  0.]\n",
      "  ...\n",
      "  [ 0.  4. 16. ... 16.  6.  0.]\n",
      "  [ 0.  8. 16. ... 16.  8.  0.]\n",
      "  [ 0.  1.  8. ... 12.  1.  0.]]]\n"
     ]
    }
   ],
   "source": [
    "#for i in range(0,5):\n",
    "print(digits.images)"
   ]
  },
  {
   "cell_type": "code",
   "execution_count": 8,
   "metadata": {},
   "outputs": [
    {
     "name": "stdout",
     "output_type": "stream",
     "text": [
      "[13. 16. 16. 16. 16. 16. 16. 16.]\n"
     ]
    }
   ],
   "source": [
    "print(digits.images[1][:,4])"
   ]
  },
  {
   "cell_type": "code",
   "execution_count": null,
   "metadata": {},
   "outputs": [
    {
     "name": "stderr",
     "output_type": "stream",
     "text": [
      "C:\\Users\\santi\\Anaconda3\\lib\\site-packages\\matplotlib\\pyplot.py:537: RuntimeWarning: More than 20 figures have been opened. Figures created through the pyplot interface (`matplotlib.pyplot.figure`) are retained until explicitly closed and may consume too much memory. (To control this warning, see the rcParam `figure.max_open_warning`).\n",
      "  max_open_warning, RuntimeWarning)\n"
     ]
    }
   ],
   "source": []
  },
  {
   "cell_type": "code",
   "execution_count": 8,
   "metadata": {},
   "outputs": [
    {
     "name": "stdout",
     "output_type": "stream",
     "text": [
      "Se tienen en total: 1797 imágenes\n",
      "[[ 0.  0.  0.  1. 11.  9.  0.  0.]\n",
      " [ 0.  0.  0.  7. 16. 13.  0.  0.]\n",
      " [ 0.  0.  4. 14. 16.  9.  0.  0.]\n",
      " [ 0. 10. 16. 11. 16.  8.  0.  0.]\n",
      " [ 0.  0.  0.  3. 16.  6.  0.  0.]\n",
      " [ 0.  0.  0.  3. 16.  8.  0.  0.]\n",
      " [ 0.  0.  0.  5. 16. 10.  0.  0.]\n",
      " [ 0.  0.  0.  2. 14.  6.  0.  0.]]\n"
     ]
    },
    {
     "data": {
      "text/plain": [
       "<Figure size 432x288 with 0 Axes>"
      ]
     },
     "metadata": {},
     "output_type": "display_data"
    },
    {
     "data": {
      "image/png": "[encoded data removed]",
      "text/plain": [
       "<Figure size 288x288 with 1 Axes>"
      ]
     },
     "metadata": {},
     "output_type": "display_data"
    }
   ],
   "source": [
    "digits = load_digits()\n",
    "pl.gray() # Queremos las imágenes en grises\n",
    "pl.matshow(digits.images[47]) # Imprimir una imagen dada\n",
    "numImagenes = len(digits.images) # Numero de imagenes, len es un método que provee el tamaño del arreglo\n",
    "print(\"Se tienen en total:\", numImagenes, \"imágenes\")\n",
    "print(digits.images[47]) # Ver su representación en pixeles"
   ]
  },
  {
   "cell_type": "code",
   "execution_count": 11,
   "metadata": {},
   "outputs": [
    {
     "name": "stdout",
     "output_type": "stream",
     "text": [
      "Numero de imagenes para el 7: 179\n",
      "Numero de imagenes encontradas: 112\n",
      "Probabilidad de reconocimiento de la imagen: 0.6256983240223464\n",
      "-----\n",
      "Numero de imagenes para el 9: 180\n",
      "Numero de imagenes encontradas: 142\n",
      "Probabilidad de reconocimiento de la imagen: 0.7888888888888889\n"
     ]
    }
   ],
   "source": [
    "#Matriz de evaluacion del numero 7\n",
    "seven= ([[0, 0, 1, 1, 1, 1, 1, 0],\n",
    "                [ 0, 0, 0, 0, 0, 1, 1, 0],\n",
    "                [ 0, 0, 0, 0, 0, 1, 0, 0],\n",
    "                [ 0, 0, 0, 0, 1, 1, 0, 0],\n",
    "                [ 0, 0, 1, 1, 1, 1, 1, 0],\n",
    "                [ 0, 0, 0, 1, 0, 0, 0, 0],\n",
    "                [ 0, 0, 0, 1, 0, 0, 0, 0],\n",
    "                [ 0, 0, 1, 0, 0, 0, 0, 0]])\n",
    "#Matriz de evaluacion del numero 9\n",
    "nine= ([[0, 1, 1, 1, 1, 1, 1, 0],\n",
    "                [ 0, 1, 1, 0, 0, 1, 1, 0],\n",
    "                [ 0, 1, 1, 0, 0, 1, 1, 0],\n",
    "                [ 0, 1, 1, 1, 1, 1, 1, 0],\n",
    "                [ 0, 0, 0, 0, 0, 1, 1, 0],\n",
    "                [ 0, 0, 0, 0, 1, 1, 0, 0],\n",
    "                [ 0, 0, 0, 1, 1, 0, 0, 0],\n",
    "                [ 0, 0, 1, 1, 0, 0, 0, 0]])\n",
    "\n",
    "\n",
    "\n",
    "#Ejecutor es el metodo que da el resultado de cuantos numeros son reconocidos por el algoritmo (Depende del numero que entra por parametro)\n",
    "def ejecutor( number):\n",
    "    #inicialmente la metriz esta seleccionada en la del nueve\n",
    "    matriz=nine\n",
    "    #evalula si lo que entro por paramentro es diferente \n",
    "    if(number==7):\n",
    "        matriz=seven\n",
    "    #contador\n",
    "    x=0\n",
    "    #target\n",
    "    z=digits.target\n",
    "    #contador de numeros iguales al entrado por parametro\n",
    "    contador=0\n",
    "    #contador de numeros iguales al entrado por parametro y que coincida con la matriz base\n",
    "    contadorError=0\n",
    "    #limite de imagenes\n",
    "    limit=1797\n",
    "    while x<limit: \n",
    "        #verifica si el numero por parametro es igual al target en x(Esto se hace para tener la cantidad real de la imagenes compatibles con el numero entrado por parametro)\n",
    "        if(z[x]==number):\n",
    "            contador+=1\n",
    "        i=0\n",
    "        #El bloque del codigo sigueinte lo que hace es superponer la matriz base en con la matriz x y compara casilla con casiila para encontrar una posible similitud\n",
    "    #-----------------------------------------------------\n",
    "        error=0\n",
    "        numero=0\n",
    "        while(i<8):\n",
    "            j=0\n",
    "            while(j<8):\n",
    "                if((matriz[i][j]>0 and digits.images[x][i][j]>=8) ):\n",
    "                    error+=1\n",
    "                if(digits.images[x][i][j]>=8):\n",
    "                    numero+=1\n",
    "                j+=1        \n",
    "            i+=1\n",
    "        porcen=error/numero\n",
    "    #------------------------------------------------------\n",
    "    #evalulua si es possible que la imagen x sea igual a la matriz base\n",
    "        if(porcen>0.60 and z[x]==number):\n",
    "            contadorError+=1\n",
    "            #print(x)\n",
    "            #print(numero)\n",
    "            #print(error)\n",
    "            #pl.matshow(digits.images[x])\n",
    "            #print(error/numero)\n",
    "            #print(\"----------\")\n",
    "        \n",
    "        if(x!=limit):\n",
    "            x+=1\n",
    "    print(\"Numero de imagenes para el \"+repr(number)+\": \"+repr(contador))\n",
    "    print(\"Numero de imagenes encontradas: \"+repr(contadorError))\n",
    "    print(\"Probabilidad de reconocimiento de la imagen: \"+repr((contadorError/contador)))\n",
    "    \n",
    "    \n",
    "ejecutor(7)\n",
    "print(\"-----\")\n",
    "ejecutor(9)   \n",
    "            \n",
    "    "
   ]
  },
  {
   "cell_type": "code",
   "execution_count": 8,
   "metadata": {},
   "outputs": [
    {
     "data": {
      "text/plain": [
       "sklearn.utils.Bunch"
      ]
     },
     "execution_count": 8,
     "metadata": {},
     "output_type": "execute_result"
    }
   ],
   "source": [
    "type(digits)"
   ]
  },
  {
   "cell_type": "code",
   "execution_count": 11,
   "metadata": {},
   "outputs": [],
   "source": [
    "?sklearn.utils.Bunch"
   ]
  },
  {
   "cell_type": "code",
   "execution_count": 14,
   "metadata": {},
   "outputs": [
    {
     "data": {
      "text/plain": [
       "array([[ 0.,  0.,  9., 14.,  8.,  1.,  0.,  0.],\n",
       "       [ 0.,  0., 12., 14., 14., 12.,  0.,  0.],\n",
       "       [ 0.,  0.,  9., 10.,  0., 15.,  4.,  0.],\n",
       "       [ 0.,  0.,  3., 16., 12., 14.,  2.,  0.],\n",
       "       [ 0.,  0.,  4., 16., 16.,  2.,  0.,  0.],\n",
       "       [ 0.,  3., 16.,  8., 10., 13.,  2.,  0.],\n",
       "       [ 0.,  1., 15.,  1.,  3., 16.,  8.,  0.],\n",
       "       [ 0.,  0., 11., 16., 15., 11.,  1.,  0.]])"
      ]
     },
     "execution_count": 14,
     "metadata": {},
     "output_type": "execute_result"
    }
   ],
   "source": [
    "digits['images'][8]"
   ]
  },
  {
   "cell_type": "markdown",
   "metadata": {},
   "source": [
    "Después de un proceso de etiquetado manual de varios días, realizado por un estudiante de pregrado en ingeniería de sistemas, en el que manualmente se clasificaron las imágenes una a una, se pudo obtener un *ground truth* con las clases reales de cada imagen.\n",
    "\n",
    "Las etiquetas de las imágenes que indican el dígito real se encuentran disponibles:"
   ]
  },
  {
   "cell_type": "code",
   "execution_count": 4,
   "metadata": {},
   "outputs": [
    {
     "name": "stdout",
     "output_type": "stream",
     "text": [
      "5\n"
     ]
    }
   ],
   "source": [
    "y = digits.target # el método nos provee las etiquetas de las imágenes en un arreglo\n",
    "print(y[25])"
   ]
  },
  {
   "cell_type": "markdown",
   "metadata": {},
   "source": [
    "Para poder simplificar la representación de los datos, se pueden aplanar las matrices de pixeles para poner cada imagen en un solo array de 64 pixeles:"
   ]
  },
  {
   "cell_type": "code",
   "execution_count": 24,
   "metadata": {},
   "outputs": [
    {
     "name": "stdout",
     "output_type": "stream",
     "text": [
      "[ 0.  0. 12.  8.  8.  7.  0.  0.  0.  3. 16. 16. 11.  7.  0.  0.  0.  2.\n",
      " 14.  1.  0.  0.  0.  0.  0.  5. 14.  5.  0.  0.  0.  0.  0.  2. 15. 16.\n",
      "  9.  0.  0.  0.  0.  0.  0.  2. 16.  2.  0.  0.  0.  0.  4.  8. 16.  4.\n",
      "  0.  0.  0.  0. 11. 14.  9.  0.  0.  0.]\n"
     ]
    }
   ],
   "source": [
    "X = digits.images.reshape((numImagenes, -1)) # se reducen las dimensiones\n",
    "print(X[25])"
   ]
  },
  {
   "cell_type": "markdown",
   "metadata": {},
   "source": [
    "**Traten de pensar en un programa tradicional que les permita clasificar cualquier imágen de números en el dígito correspondiente.**"
   ]
  },
  {
   "cell_type": "markdown",
   "metadata": {},
   "source": [
    "..."
   ]
  },
  {
   "cell_type": "markdown",
   "metadata": {},
   "source": [
    "..."
   ]
  },
  {
   "cell_type": "markdown",
   "metadata": {},
   "source": [
    "## Aprendizaje automático"
   ]
  },
  {
   "cell_type": "markdown",
   "metadata": {},
   "source": [
    "Con un modelo de **machine learning** se puede realizar esta tarea de una manera bastante sencilla."
   ]
  },
  {
   "cell_type": "code",
   "execution_count": 34,
   "metadata": {},
   "outputs": [],
   "source": [
    "#from sklearn.model_selection import train_test_split\n",
    "from sklearn.naive_bayes import GaussianNB\n",
    "import sklearn.metrics as metrics\n",
    "import pylab as plt\n",
    "\n",
    "gnb = GaussianNB()\n",
    "fit = gnb.fit(X, y)"
   ]
  },
  {
   "cell_type": "markdown",
   "metadata": {},
   "source": [
    "Se pueden evaluar las clases estimadas por el modelo vs. las clases reales"
   ]
  },
  {
   "cell_type": "code",
   "execution_count": 30,
   "metadata": {},
   "outputs": [
    {
     "name": "stdout",
     "output_type": "stream",
     "text": [
      "Reales   : [0 1 2 3 4 5 6 7 8 9 0 1 2 3 4 5 6 7 8 9 0 1 2 3 4]\n",
      "Estimados: [0 1 8 3 4 9 6 7 8 9 0 1 2 3 4 5 6 7 7 3 0 1 2 3 4]\n"
     ]
    }
   ],
   "source": [
    "y_estimado = fit.predict(X)\n",
    "print(\"Reales   :\", y[0:25])\n",
    "print(\"Estimados:\", y_estimado[0:25])"
   ]
  },
  {
   "cell_type": "markdown",
   "metadata": {},
   "source": [
    "Podemos tener una idea más clara de los casos en los que se equivoca el modelo:"
   ]
  },
  {
   "cell_type": "code",
   "execution_count": 33,
   "metadata": {},
   "outputs": [
    {
     "data": {
      "image/png": "[encoded data removed]",
      "text/plain": [
       "<Figure size 432x288 with 15 Axes>"
      ]
     },
     "metadata": {},
     "output_type": "display_data"
    }
   ],
   "source": [
    "images_and_predictions = list(zip(digits.images, y_estimado))\n",
    "for index, (image, prediction) in enumerate(images_and_predictions[:15]):\n",
    "    plt.subplot(3,5, index+1) #se crean los placeholders de 3x5 filasXcolumnas\n",
    "    plt.axis('off')  #se quitan los ejes\n",
    "    plt.imshow(image, cmap=plt.cm.gray_r)\n",
    "    plt.title('Pred: %i' % prediction)\n",
    "plt.show()\n"
   ]
  },
  {
   "cell_type": "markdown",
   "metadata": {},
   "source": [
    "Nos gustaría tener una idea de la correctitud global del modelo aprendido."
   ]
  },
  {
   "cell_type": "code",
   "execution_count": 36,
   "metadata": {},
   "outputs": [
    {
     "data": {
      "text/plain": [
       "0.8580968280467446"
      ]
     },
     "execution_count": 36,
     "metadata": {},
     "output_type": "execute_result"
    }
   ],
   "source": [
    "metrics.accuracy_score(y, y_estimado)"
   ]
  },
  {
   "cell_type": "markdown",
   "metadata": {},
   "source": [
    "## Tarea \n",
    "\n",
    "Previamente hemos podido utilizar las herramientas de sklearn para cargar las imágenes del dataset notMNIST, a través de pylab visualizamos una muestra y finalmente utilizamos un primer algoritmo de machine learning (Naive Bayes) para el entrenamiento y la predicción de un conjunto de imágenes.\n",
    "\n",
    "Su trabajo es aplicar un método de programación tradicional, es decir, sin usar modelos basados en machine learning. El método debe estar en la capacidad de identificar la etiqueta (el número asignado a la imagen) del conjunto de NotMNIST.\n",
    "\n",
    "Cada pareja de estudiantes se debe encargar de predecir 2 dígitos, específicamente, cada grupo debe seleccionar entre las siguientes opciones de dígitos:\n",
    "\n",
    "+ 1 y 5\n",
    "+ 8 y 2\n",
    "+ 9 y 7\n",
    "+ 0 y 3\n",
    "+ 4 y 6\n",
    "\n",
    "Cada dígito implica la creación de un modelo de clasificación para disitinguir si el dígito está o no en la imagen.\n",
    "Una vez implementados los modelos, para cada modelo, calcule:\n",
    "+ El accuracy y kappa global de cada clasificador\n",
    "+ El precision, recall, especificidad y F-Measure de cada clase\n"
   ]
  }
 ],
 "metadata": {
  "kernelspec": {
   "display_name": "Python 3",
   "language": "python",
   "name": "python3"
  },
  "language_info": {
   "codemirror_mode": {
    "name": "ipython",
    "version": 3
   },
   "file_extension": ".py",
   "mimetype": "text/x-python",
   "name": "python",
   "nbconvert_exporter": "python",
   "pygments_lexer": "ipython3",
   "version": "3.6.5"
  }
 },
 "nbformat": 4,
 "nbformat_minor": 2
}
